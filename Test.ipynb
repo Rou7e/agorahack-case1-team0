{
 "cells": [
  {
   "cell_type": "code",
   "execution_count": 2,
   "metadata": {},
   "outputs": [],
   "source": [
    "import pandas as pd\n",
    "import numpy as np\n",
    "import json"
   ]
  },
  {
   "cell_type": "code",
   "execution_count": 3,
   "metadata": {},
   "outputs": [],
   "source": [
    "DIR = 'D:/AgoraHack/agorahack-case1-team0/'\n",
    "\n",
    "with open('./agora_hack_products/agora_hack_products.json', encoding='utf-8') as f:\n",
    "   prdct = json.load(f)\n",
    "\n",
    "df = pd.DataFrame.from_dict(prdct, orient='columns')"
   ]
  },
  {
   "cell_type": "code",
   "execution_count": 4,
   "metadata": {},
   "outputs": [
    {
     "data": {
      "text/html": [
       "<div>\n",
       "<style scoped>\n",
       "    .dataframe tbody tr th:only-of-type {\n",
       "        vertical-align: middle;\n",
       "    }\n",
       "\n",
       "    .dataframe tbody tr th {\n",
       "        vertical-align: top;\n",
       "    }\n",
       "\n",
       "    .dataframe thead th {\n",
       "        text-align: right;\n",
       "    }\n",
       "</style>\n",
       "<table border=\"1\" class=\"dataframe\">\n",
       "  <thead>\n",
       "    <tr style=\"text-align: right;\">\n",
       "      <th></th>\n",
       "      <th>product_id</th>\n",
       "      <th>name</th>\n",
       "      <th>props</th>\n",
       "      <th>is_reference</th>\n",
       "      <th>reference_id</th>\n",
       "    </tr>\n",
       "  </thead>\n",
       "  <tbody>\n",
       "    <tr>\n",
       "      <th>2237</th>\n",
       "      <td>b0a83ba5cedf51e0</td>\n",
       "      <td>Процессор AMD Ryzen R5-3600 OEM</td>\n",
       "      <td>[Оперативная память\\t2 x DDR4 3200 МГц, Объем ...</td>\n",
       "      <td>False</td>\n",
       "      <td>658389286433bfc3</td>\n",
       "    </tr>\n",
       "    <tr>\n",
       "      <th>2438</th>\n",
       "      <td>c13113e79ddb81c0</td>\n",
       "      <td>Процессор AMD RYZEN X16 R9-5950X AM4 OEM 105W ...</td>\n",
       "      <td>[Оперативная память\\t2 x DDR4 3200 МГц, Количе...</td>\n",
       "      <td>False</td>\n",
       "      <td>f1ef51ca6bab03d3</td>\n",
       "    </tr>\n",
       "    <tr>\n",
       "      <th>55</th>\n",
       "      <td>03a1c5115743413a</td>\n",
       "      <td>Монитор 25\" Lenovo G25-10 черный (65fegac2eu)</td>\n",
       "      <td>[Тип матрицы\\tTN, Яркость\\t400 кд/м²; контраст...</td>\n",
       "      <td>False</td>\n",
       "      <td>a51a43ae8ef6ec5d</td>\n",
       "    </tr>\n",
       "  </tbody>\n",
       "</table>\n",
       "</div>"
      ],
      "text/plain": [
       "            product_id                                               name  \\\n",
       "2237  b0a83ba5cedf51e0                    Процессор AMD Ryzen R5-3600 OEM   \n",
       "2438  c13113e79ddb81c0  Процессор AMD RYZEN X16 R9-5950X AM4 OEM 105W ...   \n",
       "55    03a1c5115743413a      Монитор 25\" Lenovo G25-10 черный (65fegac2eu)   \n",
       "\n",
       "                                                  props  is_reference  \\\n",
       "2237  [Оперативная память\\t2 x DDR4 3200 МГц, Объем ...         False   \n",
       "2438  [Оперативная память\\t2 x DDR4 3200 МГц, Количе...         False   \n",
       "55    [Тип матрицы\\tTN, Яркость\\t400 кд/м²; контраст...         False   \n",
       "\n",
       "          reference_id  \n",
       "2237  658389286433bfc3  \n",
       "2438  f1ef51ca6bab03d3  \n",
       "55    a51a43ae8ef6ec5d  "
      ]
     },
     "execution_count": 4,
     "metadata": {},
     "output_type": "execute_result"
    }
   ],
   "source": [
    "df.sample(3)"
   ]
  },
  {
   "cell_type": "code",
   "execution_count": 6,
   "metadata": {},
   "outputs": [],
   "source": [
    "test = df.drop(['is_reference', 'reference_id'], axis = 1)"
   ]
  },
  {
   "cell_type": "code",
   "execution_count": 7,
   "metadata": {},
   "outputs": [
    {
     "data": {
      "text/html": [
       "<div>\n",
       "<style scoped>\n",
       "    .dataframe tbody tr th:only-of-type {\n",
       "        vertical-align: middle;\n",
       "    }\n",
       "\n",
       "    .dataframe tbody tr th {\n",
       "        vertical-align: top;\n",
       "    }\n",
       "\n",
       "    .dataframe thead th {\n",
       "        text-align: right;\n",
       "    }\n",
       "</style>\n",
       "<table border=\"1\" class=\"dataframe\">\n",
       "  <thead>\n",
       "    <tr style=\"text-align: right;\">\n",
       "      <th></th>\n",
       "      <th>product_id</th>\n",
       "      <th>name</th>\n",
       "      <th>props</th>\n",
       "    </tr>\n",
       "  </thead>\n",
       "  <tbody>\n",
       "    <tr>\n",
       "      <th>1717</th>\n",
       "      <td>855edd96d800224d</td>\n",
       "      <td>Колонки Genius Sp-hf180, 2.0, 2 x 3W, USB-power</td>\n",
       "      <td>[Диапазон  частот 150 - 20000 Гц]</td>\n",
       "    </tr>\n",
       "  </tbody>\n",
       "</table>\n",
       "</div>"
      ],
      "text/plain": [
       "            product_id                                             name  \\\n",
       "1717  855edd96d800224d  Колонки Genius Sp-hf180, 2.0, 2 x 3W, USB-power   \n",
       "\n",
       "                                  props  \n",
       "1717  [Диапазон  частот 150 - 20000 Гц]  "
      ]
     },
     "execution_count": 7,
     "metadata": {},
     "output_type": "execute_result"
    }
   ],
   "source": [
    "test.sample()"
   ]
  },
  {
   "cell_type": "code",
   "execution_count": 9,
   "metadata": {},
   "outputs": [],
   "source": [
    "out = test[:200].to_json(orient='records')\n",
    "\n",
    "with open('./output/test_answer.json', 'w') as f:\n",
    "    f.write(out)"
   ]
  },
  {
   "cell_type": "code",
   "execution_count": 10,
   "metadata": {},
   "outputs": [],
   "source": [
    "with open('./output/test_answer.json', encoding='utf-8') as f:\n",
    "   tst = json.load(f)\n",
    "\n",
    "test = pd.DataFrame.from_dict(tst, orient='columns')"
   ]
  },
  {
   "cell_type": "code",
   "execution_count": 11,
   "metadata": {},
   "outputs": [
    {
     "data": {
      "text/html": [
       "<div>\n",
       "<style scoped>\n",
       "    .dataframe tbody tr th:only-of-type {\n",
       "        vertical-align: middle;\n",
       "    }\n",
       "\n",
       "    .dataframe tbody tr th {\n",
       "        vertical-align: top;\n",
       "    }\n",
       "\n",
       "    .dataframe thead th {\n",
       "        text-align: right;\n",
       "    }\n",
       "</style>\n",
       "<table border=\"1\" class=\"dataframe\">\n",
       "  <thead>\n",
       "    <tr style=\"text-align: right;\">\n",
       "      <th></th>\n",
       "      <th>product_id</th>\n",
       "      <th>name</th>\n",
       "      <th>props</th>\n",
       "    </tr>\n",
       "  </thead>\n",
       "  <tbody>\n",
       "    <tr>\n",
       "      <th>35</th>\n",
       "      <td>0240c3be4a47dc1e</td>\n",
       "      <td>Korting Посудомоечная машина полновстраиваемая...</td>\n",
       "      <td>[3-й   разбрызгиватель\\tесть, Индикация на пол...</td>\n",
       "    </tr>\n",
       "  </tbody>\n",
       "</table>\n",
       "</div>"
      ],
      "text/plain": [
       "          product_id                                               name  \\\n",
       "35  0240c3be4a47dc1e  Korting Посудомоечная машина полновстраиваемая...   \n",
       "\n",
       "                                                props  \n",
       "35  [3-й   разбрызгиватель\\tесть, Индикация на пол...  "
      ]
     },
     "execution_count": 11,
     "metadata": {},
     "output_type": "execute_result"
    }
   ],
   "source": [
    "test.sample()"
   ]
  },
  {
   "cell_type": "code",
   "execution_count": 12,
   "metadata": {},
   "outputs": [],
   "source": [
    "test = test.rename (columns= {'product_id': 'id'})"
   ]
  },
  {
   "cell_type": "code",
   "execution_count": null,
   "metadata": {},
   "outputs": [],
   "source": []
  }
 ],
 "metadata": {
  "kernelspec": {
   "display_name": "Python 3.9.12 ('base')",
   "language": "python",
   "name": "python3"
  },
  "language_info": {
   "codemirror_mode": {
    "name": "ipython",
    "version": 3
   },
   "file_extension": ".py",
   "mimetype": "text/x-python",
   "name": "python",
   "nbconvert_exporter": "python",
   "pygments_lexer": "ipython3",
   "version": "3.9.12"
  },
  "orig_nbformat": 4,
  "vscode": {
   "interpreter": {
    "hash": "11fd67006ca27d8c3de757c93fc3ec30e6504c490ec43f275b6f9d00aa4c6782"
   }
  }
 },
 "nbformat": 4,
 "nbformat_minor": 2
}
