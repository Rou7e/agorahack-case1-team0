{
 "cells": [
  {
   "cell_type": "code",
   "execution_count": 1,
   "metadata": {},
   "outputs": [],
   "source": [
    "import pandas as pd\n",
    "import numpy as np\n",
    "import json"
   ]
  },
  {
   "cell_type": "code",
   "execution_count": 2,
   "metadata": {},
   "outputs": [],
   "source": [
    "DIR = 'D:/AgoraHack/agorahack-case1-team0/'\n",
    "\n",
    "with open('./agora_hack_products/agora_hack_products.json', encoding='utf-8') as f:\n",
    "   prdct = json.load(f)\n",
    "\n",
    "df = pd.DataFrame.from_dict(prdct, orient='columns')"
   ]
  },
  {
   "cell_type": "code",
   "execution_count": 3,
   "metadata": {},
   "outputs": [
    {
     "data": {
      "text/html": [
       "<div>\n",
       "<style scoped>\n",
       "    .dataframe tbody tr th:only-of-type {\n",
       "        vertical-align: middle;\n",
       "    }\n",
       "\n",
       "    .dataframe tbody tr th {\n",
       "        vertical-align: top;\n",
       "    }\n",
       "\n",
       "    .dataframe thead th {\n",
       "        text-align: right;\n",
       "    }\n",
       "</style>\n",
       "<table border=\"1\" class=\"dataframe\">\n",
       "  <thead>\n",
       "    <tr style=\"text-align: right;\">\n",
       "      <th></th>\n",
       "      <th>product_id</th>\n",
       "      <th>name</th>\n",
       "      <th>props</th>\n",
       "      <th>is_reference</th>\n",
       "      <th>reference_id</th>\n",
       "    </tr>\n",
       "  </thead>\n",
       "  <tbody>\n",
       "    <tr>\n",
       "      <th>2283</th>\n",
       "      <td>b3fc1fc71be2c98b</td>\n",
       "      <td>Отдельностоящая микроволновая печь Samsung MS2...</td>\n",
       "      <td>[Внутреннее покрытие камеры\\tбиокерамическая э...</td>\n",
       "      <td>False</td>\n",
       "      <td>bd828d1ddcec8c48</td>\n",
       "    </tr>\n",
       "    <tr>\n",
       "      <th>401</th>\n",
       "      <td>1f623b7666649d0d</td>\n",
       "      <td>Кухонные плиты Olto Индукционная плитка OLTO H...</td>\n",
       "      <td>[Доп. функции\\tтаймер, Защитное отключение кон...</td>\n",
       "      <td>False</td>\n",
       "      <td>74d0d86e83e8cfbd</td>\n",
       "    </tr>\n",
       "    <tr>\n",
       "      <th>2284</th>\n",
       "      <td>b3fed46da4ff0dc2</td>\n",
       "      <td>Монитор LENOVO ThinkVision E20-20 19.5\" Black</td>\n",
       "      <td>[Яркость  250 кд/м2]</td>\n",
       "      <td>False</td>\n",
       "      <td>647995c157f7d99a</td>\n",
       "    </tr>\n",
       "  </tbody>\n",
       "</table>\n",
       "</div>"
      ],
      "text/plain": [
       "            product_id                                               name  \\\n",
       "2283  b3fc1fc71be2c98b  Отдельностоящая микроволновая печь Samsung MS2...   \n",
       "401   1f623b7666649d0d  Кухонные плиты Olto Индукционная плитка OLTO H...   \n",
       "2284  b3fed46da4ff0dc2      Монитор LENOVO ThinkVision E20-20 19.5\" Black   \n",
       "\n",
       "                                                  props  is_reference  \\\n",
       "2283  [Внутреннее покрытие камеры\\tбиокерамическая э...         False   \n",
       "401   [Доп. функции\\tтаймер, Защитное отключение кон...         False   \n",
       "2284                               [Яркость  250 кд/м2]         False   \n",
       "\n",
       "          reference_id  \n",
       "2283  bd828d1ddcec8c48  \n",
       "401   74d0d86e83e8cfbd  \n",
       "2284  647995c157f7d99a  "
      ]
     },
     "execution_count": 3,
     "metadata": {},
     "output_type": "execute_result"
    }
   ],
   "source": [
    "df.sample(3)"
   ]
  },
  {
   "cell_type": "code",
   "execution_count": 4,
   "metadata": {},
   "outputs": [],
   "source": [
    "test = df.drop(['is_reference', 'reference_id'], axis = 1)"
   ]
  },
  {
   "cell_type": "code",
   "execution_count": 5,
   "metadata": {},
   "outputs": [
    {
     "data": {
      "text/html": [
       "<div>\n",
       "<style scoped>\n",
       "    .dataframe tbody tr th:only-of-type {\n",
       "        vertical-align: middle;\n",
       "    }\n",
       "\n",
       "    .dataframe tbody tr th {\n",
       "        vertical-align: top;\n",
       "    }\n",
       "\n",
       "    .dataframe thead th {\n",
       "        text-align: right;\n",
       "    }\n",
       "</style>\n",
       "<table border=\"1\" class=\"dataframe\">\n",
       "  <thead>\n",
       "    <tr style=\"text-align: right;\">\n",
       "      <th></th>\n",
       "      <th>product_id</th>\n",
       "      <th>name</th>\n",
       "      <th>props</th>\n",
       "    </tr>\n",
       "  </thead>\n",
       "  <tbody>\n",
       "    <tr>\n",
       "      <th>1498</th>\n",
       "      <td>7528282a51740c61</td>\n",
       "      <td>Наушники Mi In-Ear Headphones Basic Black HSEJ...</td>\n",
       "      <td>[Вес\\t14 г, Конструкция\\tвнутриканальные, Импе...</td>\n",
       "    </tr>\n",
       "  </tbody>\n",
       "</table>\n",
       "</div>"
      ],
      "text/plain": [
       "            product_id                                               name  \\\n",
       "1498  7528282a51740c61  Наушники Mi In-Ear Headphones Basic Black HSEJ...   \n",
       "\n",
       "                                                  props  \n",
       "1498  [Вес\\t14 г, Конструкция\\tвнутриканальные, Импе...  "
      ]
     },
     "execution_count": 5,
     "metadata": {},
     "output_type": "execute_result"
    }
   ],
   "source": [
    "test.sample()"
   ]
  },
  {
   "cell_type": "code",
   "execution_count": 6,
   "metadata": {},
   "outputs": [],
   "source": [
    "with open('./output/test_answer_2.json', encoding='utf-8') as f:\n",
    "   tst = json.load(f)\n",
    "\n",
    "test_pred = pd.DataFrame.from_dict(tst, orient='columns')"
   ]
  },
  {
   "cell_type": "code",
   "execution_count": 7,
   "metadata": {},
   "outputs": [
    {
     "data": {
      "text/html": [
       "<div>\n",
       "<style scoped>\n",
       "    .dataframe tbody tr th:only-of-type {\n",
       "        vertical-align: middle;\n",
       "    }\n",
       "\n",
       "    .dataframe tbody tr th {\n",
       "        vertical-align: top;\n",
       "    }\n",
       "\n",
       "    .dataframe thead th {\n",
       "        text-align: right;\n",
       "    }\n",
       "</style>\n",
       "<table border=\"1\" class=\"dataframe\">\n",
       "  <thead>\n",
       "    <tr style=\"text-align: right;\">\n",
       "      <th></th>\n",
       "      <th>id</th>\n",
       "      <th>reference_id</th>\n",
       "    </tr>\n",
       "  </thead>\n",
       "  <tbody>\n",
       "    <tr>\n",
       "      <th>23</th>\n",
       "      <td>01a896d8507b1519</td>\n",
       "      <td>698c2d3015a71ee7</td>\n",
       "    </tr>\n",
       "  </tbody>\n",
       "</table>\n",
       "</div>"
      ],
      "text/plain": [
       "                  id      reference_id\n",
       "23  01a896d8507b1519  698c2d3015a71ee7"
      ]
     },
     "execution_count": 7,
     "metadata": {},
     "output_type": "execute_result"
    }
   ],
   "source": [
    "test_pred.sample()"
   ]
  },
  {
   "cell_type": "code",
   "execution_count": 8,
   "metadata": {},
   "outputs": [],
   "source": [
    "test_pred = test_pred.rename (columns= {'reference_id': 'reference_id_pred'})"
   ]
  },
  {
   "cell_type": "code",
   "execution_count": 9,
   "metadata": {},
   "outputs": [
    {
     "data": {
      "text/plain": [
       "(200, 2)"
      ]
     },
     "execution_count": 9,
     "metadata": {},
     "output_type": "execute_result"
    }
   ],
   "source": [
    "test_pred.shape"
   ]
  },
  {
   "cell_type": "code",
   "execution_count": 10,
   "metadata": {},
   "outputs": [
    {
     "data": {
      "text/plain": [
       "74d0d86e83e8cfbd    4\n",
       "8f9c8fcf9cb2862c    3\n",
       "05cb692a7fd6c0e6    3\n",
       "6ba3b74a1ca138cf    2\n",
       "f1d7a6de205f4c9e    2\n",
       "                   ..\n",
       "a51a43ae8ef6ec5d    1\n",
       "46889124439ddfa4    1\n",
       "d307989eecbe7f7b    1\n",
       "1a3d1cb265de4c4e    1\n",
       "c14d00955ff5ffd7    1\n",
       "Name: reference_id_pred, Length: 166, dtype: int64"
      ]
     },
     "execution_count": 10,
     "metadata": {},
     "output_type": "execute_result"
    }
   ],
   "source": [
    "test_pred['reference_id_pred'].value_counts()"
   ]
  },
  {
   "cell_type": "code",
   "execution_count": 11,
   "metadata": {},
   "outputs": [],
   "source": [
    "test_2 = df[:200]"
   ]
  },
  {
   "cell_type": "code",
   "execution_count": 12,
   "metadata": {},
   "outputs": [],
   "source": [
    "test_2.loc[(test_2['is_reference'] == True),'reference_id'] = test_2['product_id']"
   ]
  },
  {
   "cell_type": "code",
   "execution_count": 13,
   "metadata": {},
   "outputs": [
    {
     "data": {
      "text/html": [
       "<div>\n",
       "<style scoped>\n",
       "    .dataframe tbody tr th:only-of-type {\n",
       "        vertical-align: middle;\n",
       "    }\n",
       "\n",
       "    .dataframe tbody tr th {\n",
       "        vertical-align: top;\n",
       "    }\n",
       "\n",
       "    .dataframe thead th {\n",
       "        text-align: right;\n",
       "    }\n",
       "</style>\n",
       "<table border=\"1\" class=\"dataframe\">\n",
       "  <thead>\n",
       "    <tr style=\"text-align: right;\">\n",
       "      <th></th>\n",
       "      <th>product_id</th>\n",
       "      <th>name</th>\n",
       "      <th>props</th>\n",
       "      <th>is_reference</th>\n",
       "      <th>reference_id</th>\n",
       "    </tr>\n",
       "  </thead>\n",
       "  <tbody>\n",
       "    <tr>\n",
       "      <th>0</th>\n",
       "      <td>0007302f2fe1d54d</td>\n",
       "      <td>Классическая сплит-система ROYAL CLIMA PANDORA...</td>\n",
       "      <td>[Класс  энергоэффективности\\tA, Мощность  конд...</td>\n",
       "      <td>False</td>\n",
       "      <td>f497219eb0077f84</td>\n",
       "    </tr>\n",
       "    <tr>\n",
       "      <th>1</th>\n",
       "      <td>000740b6c1cc763e</td>\n",
       "      <td>Смартфон Xiaomi Redmi Note 10S NFC 6/128 ГБ RU...</td>\n",
       "      <td>[Экран\\t6.43\" (2400x1080) AMOLED 60 Гц, 4 каме...</td>\n",
       "      <td>True</td>\n",
       "      <td>000740b6c1cc763e</td>\n",
       "    </tr>\n",
       "    <tr>\n",
       "      <th>2</th>\n",
       "      <td>0039af5efceac4ab</td>\n",
       "      <td>Холодильник Бирюса 118</td>\n",
       "      <td>[Мощность  замораживания  4 кг/сутки]</td>\n",
       "      <td>False</td>\n",
       "      <td>28085e941cde1639</td>\n",
       "    </tr>\n",
       "    <tr>\n",
       "      <th>3</th>\n",
       "      <td>004f2158acb8165c</td>\n",
       "      <td>ASUS TUF-GTX1660S-O6G-GAMING Видеокарта</td>\n",
       "      <td>[Объем  видеопамяти\\t6144 МБ, Частота  памяти\\...</td>\n",
       "      <td>False</td>\n",
       "      <td>9afe55bb4bf1e8a8</td>\n",
       "    </tr>\n",
       "    <tr>\n",
       "      <th>4</th>\n",
       "      <td>005cddb29e1677ec</td>\n",
       "      <td>Кофемашина Saeco Lirika One Touch Cappuccino, ...</td>\n",
       "      <td>[Приготовление  капучино\\tавтоматическое, Мате...</td>\n",
       "      <td>False</td>\n",
       "      <td>1f21918ceb5d345c</td>\n",
       "    </tr>\n",
       "    <tr>\n",
       "      <th>...</th>\n",
       "      <td>...</td>\n",
       "      <td>...</td>\n",
       "      <td>...</td>\n",
       "      <td>...</td>\n",
       "      <td>...</td>\n",
       "    </tr>\n",
       "    <tr>\n",
       "      <th>195</th>\n",
       "      <td>0ecb1b5c4f68b5b4</td>\n",
       "      <td>Робот-пылесосы Xiaomi Mi Roborock S5 Max Black...</td>\n",
       "      <td>[Управление со смартфона\\tда, Объем контейнера...</td>\n",
       "      <td>False</td>\n",
       "      <td>3edadb7a2d627f65</td>\n",
       "    </tr>\n",
       "    <tr>\n",
       "      <th>196</th>\n",
       "      <td>0ed52a27fbd2d716</td>\n",
       "      <td>Наушники TWS беспроводные Honor Choice Earbuds...</td>\n",
       "      <td>[Количество   микрофонов\\t2]</td>\n",
       "      <td>False</td>\n",
       "      <td>8f9f7a8f4b112f15</td>\n",
       "    </tr>\n",
       "    <tr>\n",
       "      <th>197</th>\n",
       "      <td>0eee48dbce50d9f6</td>\n",
       "      <td>Смарт-часы Xiaomi Mi Watch 2 Lite, син, BHR5440GL</td>\n",
       "      <td>[Емкость   аккумулятора\\t262 мА·ч, Совместимос...</td>\n",
       "      <td>False</td>\n",
       "      <td>d3f1c49998c771f3</td>\n",
       "    </tr>\n",
       "    <tr>\n",
       "      <th>198</th>\n",
       "      <td>0ef571d3ccb42e1a</td>\n",
       "      <td>Посудомоечная машина встраиваемая Candy CDIH 2...</td>\n",
       "      <td>[Таймер  отсрочки запуска\\tесть, Тип\\tузкая, Т...</td>\n",
       "      <td>False</td>\n",
       "      <td>d7d28d1201ba8bde</td>\n",
       "    </tr>\n",
       "    <tr>\n",
       "      <th>199</th>\n",
       "      <td>0ef5e4c8ad4bbff6</td>\n",
       "      <td>AMD FX-4300, OEM</td>\n",
       "      <td>[Количество  потоков\\t4, Объем кэша L2/L3\\t4 М...</td>\n",
       "      <td>False</td>\n",
       "      <td>c14d00955ff5ffd7</td>\n",
       "    </tr>\n",
       "  </tbody>\n",
       "</table>\n",
       "<p>200 rows × 5 columns</p>\n",
       "</div>"
      ],
      "text/plain": [
       "           product_id                                               name  \\\n",
       "0    0007302f2fe1d54d  Классическая сплит-система ROYAL CLIMA PANDORA...   \n",
       "1    000740b6c1cc763e  Смартфон Xiaomi Redmi Note 10S NFC 6/128 ГБ RU...   \n",
       "2    0039af5efceac4ab                             Холодильник Бирюса 118   \n",
       "3    004f2158acb8165c            ASUS TUF-GTX1660S-O6G-GAMING Видеокарта   \n",
       "4    005cddb29e1677ec  Кофемашина Saeco Lirika One Touch Cappuccino, ...   \n",
       "..                ...                                                ...   \n",
       "195  0ecb1b5c4f68b5b4  Робот-пылесосы Xiaomi Mi Roborock S5 Max Black...   \n",
       "196  0ed52a27fbd2d716  Наушники TWS беспроводные Honor Choice Earbuds...   \n",
       "197  0eee48dbce50d9f6  Смарт-часы Xiaomi Mi Watch 2 Lite, син, BHR5440GL   \n",
       "198  0ef571d3ccb42e1a  Посудомоечная машина встраиваемая Candy CDIH 2...   \n",
       "199  0ef5e4c8ad4bbff6                                   AMD FX-4300, OEM   \n",
       "\n",
       "                                                 props  is_reference  \\\n",
       "0    [Класс  энергоэффективности\\tA, Мощность  конд...         False   \n",
       "1    [Экран\\t6.43\" (2400x1080) AMOLED 60 Гц, 4 каме...          True   \n",
       "2                [Мощность  замораживания  4 кг/сутки]         False   \n",
       "3    [Объем  видеопамяти\\t6144 МБ, Частота  памяти\\...         False   \n",
       "4    [Приготовление  капучино\\tавтоматическое, Мате...         False   \n",
       "..                                                 ...           ...   \n",
       "195  [Управление со смартфона\\tда, Объем контейнера...         False   \n",
       "196                       [Количество   микрофонов\\t2]         False   \n",
       "197  [Емкость   аккумулятора\\t262 мА·ч, Совместимос...         False   \n",
       "198  [Таймер  отсрочки запуска\\tесть, Тип\\tузкая, Т...         False   \n",
       "199  [Количество  потоков\\t4, Объем кэша L2/L3\\t4 М...         False   \n",
       "\n",
       "         reference_id  \n",
       "0    f497219eb0077f84  \n",
       "1    000740b6c1cc763e  \n",
       "2    28085e941cde1639  \n",
       "3    9afe55bb4bf1e8a8  \n",
       "4    1f21918ceb5d345c  \n",
       "..                ...  \n",
       "195  3edadb7a2d627f65  \n",
       "196  8f9f7a8f4b112f15  \n",
       "197  d3f1c49998c771f3  \n",
       "198  d7d28d1201ba8bde  \n",
       "199  c14d00955ff5ffd7  \n",
       "\n",
       "[200 rows x 5 columns]"
      ]
     },
     "execution_count": 13,
     "metadata": {},
     "output_type": "execute_result"
    }
   ],
   "source": [
    "test_2"
   ]
  },
  {
   "cell_type": "code",
   "execution_count": 14,
   "metadata": {},
   "outputs": [],
   "source": [
    "test_all = pd.merge(test_2, test_pred, how = 'left', left_on='product_id', right_on='id')"
   ]
  },
  {
   "cell_type": "code",
   "execution_count": 15,
   "metadata": {},
   "outputs": [
    {
     "data": {
      "text/html": [
       "<div>\n",
       "<style scoped>\n",
       "    .dataframe tbody tr th:only-of-type {\n",
       "        vertical-align: middle;\n",
       "    }\n",
       "\n",
       "    .dataframe tbody tr th {\n",
       "        vertical-align: top;\n",
       "    }\n",
       "\n",
       "    .dataframe thead th {\n",
       "        text-align: right;\n",
       "    }\n",
       "</style>\n",
       "<table border=\"1\" class=\"dataframe\">\n",
       "  <thead>\n",
       "    <tr style=\"text-align: right;\">\n",
       "      <th></th>\n",
       "      <th>product_id</th>\n",
       "      <th>name</th>\n",
       "      <th>props</th>\n",
       "      <th>is_reference</th>\n",
       "      <th>reference_id</th>\n",
       "      <th>id</th>\n",
       "      <th>reference_id_pred</th>\n",
       "    </tr>\n",
       "  </thead>\n",
       "  <tbody>\n",
       "    <tr>\n",
       "      <th>39</th>\n",
       "      <td>0295babfe47a46b9</td>\n",
       "      <td>Samsung SM-A336E Galaxy A33 5G 128 6Gb черный ...</td>\n",
       "      <td>[Степень   защиты\\tIP67, Экран\\t6.4\"  (2400x10...</td>\n",
       "      <td>False</td>\n",
       "      <td>161fca3b6bcf5fcc</td>\n",
       "      <td>0295babfe47a46b9</td>\n",
       "      <td>161fca3b6bcf5fcc</td>\n",
       "    </tr>\n",
       "    <tr>\n",
       "      <th>173</th>\n",
       "      <td>0c8996c6d591f25f</td>\n",
       "      <td>Фен профессиональный REDMOND RF-528, 1500Вт</td>\n",
       "      <td>[Вес\\t400 г, Насадки\\tконцентратор, Длина  сет...</td>\n",
       "      <td>False</td>\n",
       "      <td>72568b8dd31ed9b7</td>\n",
       "      <td>0c8996c6d591f25f</td>\n",
       "      <td>72568b8dd31ed9b7</td>\n",
       "    </tr>\n",
       "    <tr>\n",
       "      <th>158</th>\n",
       "      <td>0be9800a9a538231</td>\n",
       "      <td>50\" Телевизор Samsung UE50AU7500U 2021 LED, HD...</td>\n",
       "      <td>[Диагональ\\t50\", Разрешение HD\\t4K UHD, Частот...</td>\n",
       "      <td>True</td>\n",
       "      <td>0be9800a9a538231</td>\n",
       "      <td>0be9800a9a538231</td>\n",
       "      <td>d75d646df7e9e2bb</td>\n",
       "    </tr>\n",
       "  </tbody>\n",
       "</table>\n",
       "</div>"
      ],
      "text/plain": [
       "           product_id                                               name  \\\n",
       "39   0295babfe47a46b9  Samsung SM-A336E Galaxy A33 5G 128 6Gb черный ...   \n",
       "173  0c8996c6d591f25f        Фен профессиональный REDMOND RF-528, 1500Вт   \n",
       "158  0be9800a9a538231  50\" Телевизор Samsung UE50AU7500U 2021 LED, HD...   \n",
       "\n",
       "                                                 props  is_reference  \\\n",
       "39   [Степень   защиты\\tIP67, Экран\\t6.4\"  (2400x10...         False   \n",
       "173  [Вес\\t400 г, Насадки\\tконцентратор, Длина  сет...         False   \n",
       "158  [Диагональ\\t50\", Разрешение HD\\t4K UHD, Частот...          True   \n",
       "\n",
       "         reference_id                id reference_id_pred  \n",
       "39   161fca3b6bcf5fcc  0295babfe47a46b9  161fca3b6bcf5fcc  \n",
       "173  72568b8dd31ed9b7  0c8996c6d591f25f  72568b8dd31ed9b7  \n",
       "158  0be9800a9a538231  0be9800a9a538231  d75d646df7e9e2bb  "
      ]
     },
     "execution_count": 15,
     "metadata": {},
     "output_type": "execute_result"
    }
   ],
   "source": [
    "test_all.sample(3)"
   ]
  },
  {
   "cell_type": "code",
   "execution_count": 16,
   "metadata": {},
   "outputs": [],
   "source": [
    "test_all['pred'] = 0"
   ]
  },
  {
   "cell_type": "code",
   "execution_count": 27,
   "metadata": {},
   "outputs": [],
   "source": [
    "td = []\n",
    "\n",
    "for i in test_all.index:\n",
    "    test_all.loc[(test_all.index == i),['pred']] = (test_all.loc[(test_all.index == i),\n",
    "    'reference_id'] == test_all.loc[(test_all.index == i),'reference_id_pred'])\n",
    "\n",
    "#test_all['pred'] = [test_all['reference_id'] == test_all['reference_id_pred']]"
   ]
  },
  {
   "cell_type": "code",
   "execution_count": 28,
   "metadata": {},
   "outputs": [
    {
     "data": {
      "text/plain": [
       "True     192\n",
       "False      8\n",
       "Name: pred, dtype: int64"
      ]
     },
     "execution_count": 28,
     "metadata": {},
     "output_type": "execute_result"
    }
   ],
   "source": [
    "test_all['pred'].value_counts()"
   ]
  },
  {
   "cell_type": "code",
   "execution_count": null,
   "metadata": {},
   "outputs": [],
   "source": []
  }
 ],
 "metadata": {
  "kernelspec": {
   "display_name": "Python 3.9.12 ('base')",
   "language": "python",
   "name": "python3"
  },
  "language_info": {
   "codemirror_mode": {
    "name": "ipython",
    "version": 3
   },
   "file_extension": ".py",
   "mimetype": "text/x-python",
   "name": "python",
   "nbconvert_exporter": "python",
   "pygments_lexer": "ipython3",
   "version": "3.9.12"
  },
  "orig_nbformat": 4,
  "vscode": {
   "interpreter": {
    "hash": "11fd67006ca27d8c3de757c93fc3ec30e6504c490ec43f275b6f9d00aa4c6782"
   }
  }
 },
 "nbformat": 4,
 "nbformat_minor": 2
}
