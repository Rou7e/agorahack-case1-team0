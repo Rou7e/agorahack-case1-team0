{
 "cells": [
  {
   "cell_type": "code",
   "execution_count": 1,
   "metadata": {},
   "outputs": [],
   "source": [
    "import pandas as pd\n",
    "import numpy as np\n",
    "import json"
   ]
  },
  {
   "cell_type": "code",
   "execution_count": 2,
   "metadata": {},
   "outputs": [],
   "source": [
    "DIR = 'D:/AgoraHack/agorahack-case1-team0/'\n",
    "\n",
    "with open('./agora_hack_products/agora_hack_products.json', encoding='utf-8') as f:\n",
    "   prdct = json.load(f)\n",
    "\n",
    "df = pd.DataFrame.from_dict(prdct, orient='columns')"
   ]
  },
  {
   "cell_type": "code",
   "execution_count": 3,
   "metadata": {},
   "outputs": [
    {
     "data": {
      "text/html": [
       "<div>\n",
       "<style scoped>\n",
       "    .dataframe tbody tr th:only-of-type {\n",
       "        vertical-align: middle;\n",
       "    }\n",
       "\n",
       "    .dataframe tbody tr th {\n",
       "        vertical-align: top;\n",
       "    }\n",
       "\n",
       "    .dataframe thead th {\n",
       "        text-align: right;\n",
       "    }\n",
       "</style>\n",
       "<table border=\"1\" class=\"dataframe\">\n",
       "  <thead>\n",
       "    <tr style=\"text-align: right;\">\n",
       "      <th></th>\n",
       "      <th>product_id</th>\n",
       "      <th>name</th>\n",
       "      <th>props</th>\n",
       "      <th>is_reference</th>\n",
       "      <th>reference_id</th>\n",
       "    </tr>\n",
       "  </thead>\n",
       "  <tbody>\n",
       "    <tr>\n",
       "      <th>1605</th>\n",
       "      <td>7cbb6215019352ec</td>\n",
       "      <td>Профессиональный фен BaByliss PRO Caruso BAB65...</td>\n",
       "      <td>[Мощность\\t2400 Вт, Число режимов нагрева\\t3, ...</td>\n",
       "      <td>False</td>\n",
       "      <td>df8dbcf0d4e381e6</td>\n",
       "    </tr>\n",
       "    <tr>\n",
       "      <th>1916</th>\n",
       "      <td>95ca3f99938574bb</td>\n",
       "      <td>Робот-пылесос Xiaomi Mi Robot Vacuum-Mop 2 Lit...</td>\n",
       "      <td>[Управление со смартфона\\tда, Тип  контейнера\\...</td>\n",
       "      <td>False</td>\n",
       "      <td>d4ebc4a26700d5e0</td>\n",
       "    </tr>\n",
       "    <tr>\n",
       "      <th>1189</th>\n",
       "      <td>5dbb920b76664dae</td>\n",
       "      <td>Настенная сплит-система Jax ACiU-08HE</td>\n",
       "      <td>[Мощность охлаждения\\t2050 Вт / обогрева: 2550...</td>\n",
       "      <td>False</td>\n",
       "      <td>a38aa64a14594b32</td>\n",
       "    </tr>\n",
       "  </tbody>\n",
       "</table>\n",
       "</div>"
      ],
      "text/plain": [
       "            product_id                                               name  \\\n",
       "1605  7cbb6215019352ec  Профессиональный фен BaByliss PRO Caruso BAB65...   \n",
       "1916  95ca3f99938574bb  Робот-пылесос Xiaomi Mi Robot Vacuum-Mop 2 Lit...   \n",
       "1189  5dbb920b76664dae              Настенная сплит-система Jax ACiU-08HE   \n",
       "\n",
       "                                                  props  is_reference  \\\n",
       "1605  [Мощность\\t2400 Вт, Число режимов нагрева\\t3, ...         False   \n",
       "1916  [Управление со смартфона\\tда, Тип  контейнера\\...         False   \n",
       "1189  [Мощность охлаждения\\t2050 Вт / обогрева: 2550...         False   \n",
       "\n",
       "          reference_id  \n",
       "1605  df8dbcf0d4e381e6  \n",
       "1916  d4ebc4a26700d5e0  \n",
       "1189  a38aa64a14594b32  "
      ]
     },
     "execution_count": 3,
     "metadata": {},
     "output_type": "execute_result"
    }
   ],
   "source": [
    "df.sample(3)"
   ]
  },
  {
   "cell_type": "code",
   "execution_count": 4,
   "metadata": {},
   "outputs": [],
   "source": [
    "test = df.drop(['is_reference', 'reference_id'], axis = 1)"
   ]
  },
  {
   "cell_type": "code",
   "execution_count": 5,
   "metadata": {},
   "outputs": [
    {
     "data": {
      "text/html": [
       "<div>\n",
       "<style scoped>\n",
       "    .dataframe tbody tr th:only-of-type {\n",
       "        vertical-align: middle;\n",
       "    }\n",
       "\n",
       "    .dataframe tbody tr th {\n",
       "        vertical-align: top;\n",
       "    }\n",
       "\n",
       "    .dataframe thead th {\n",
       "        text-align: right;\n",
       "    }\n",
       "</style>\n",
       "<table border=\"1\" class=\"dataframe\">\n",
       "  <thead>\n",
       "    <tr style=\"text-align: right;\">\n",
       "      <th></th>\n",
       "      <th>product_id</th>\n",
       "      <th>name</th>\n",
       "      <th>props</th>\n",
       "    </tr>\n",
       "  </thead>\n",
       "  <tbody>\n",
       "    <tr>\n",
       "      <th>2555</th>\n",
       "      <td>c9634b0b93d1bafc</td>\n",
       "      <td>Сплит-система General Climate GC-RE12HR / GU-R...</td>\n",
       "      <td>[Инверторный\\tда, Особенности таймер включения...</td>\n",
       "    </tr>\n",
       "  </tbody>\n",
       "</table>\n",
       "</div>"
      ],
      "text/plain": [
       "            product_id                                               name  \\\n",
       "2555  c9634b0b93d1bafc  Сплит-система General Climate GC-RE12HR / GU-R...   \n",
       "\n",
       "                                                  props  \n",
       "2555  [Инверторный\\tда, Особенности таймер включения...  "
      ]
     },
     "execution_count": 5,
     "metadata": {},
     "output_type": "execute_result"
    }
   ],
   "source": [
    "test.sample()"
   ]
  },
  {
   "cell_type": "code",
   "execution_count": 6,
   "metadata": {},
   "outputs": [],
   "source": [
    "with open('./output/res.json', encoding='utf-8') as f:\n",
    "   tst = json.load(f)\n",
    "\n",
    "test_pred = pd.DataFrame.from_dict(tst, orient='columns')"
   ]
  },
  {
   "cell_type": "code",
   "execution_count": 7,
   "metadata": {},
   "outputs": [
    {
     "data": {
      "text/html": [
       "<div>\n",
       "<style scoped>\n",
       "    .dataframe tbody tr th:only-of-type {\n",
       "        vertical-align: middle;\n",
       "    }\n",
       "\n",
       "    .dataframe tbody tr th {\n",
       "        vertical-align: top;\n",
       "    }\n",
       "\n",
       "    .dataframe thead th {\n",
       "        text-align: right;\n",
       "    }\n",
       "</style>\n",
       "<table border=\"1\" class=\"dataframe\">\n",
       "  <thead>\n",
       "    <tr style=\"text-align: right;\">\n",
       "      <th></th>\n",
       "      <th>id</th>\n",
       "      <th>reference_id</th>\n",
       "    </tr>\n",
       "  </thead>\n",
       "  <tbody>\n",
       "    <tr>\n",
       "      <th>110</th>\n",
       "      <td>07595834e2ac11c2</td>\n",
       "      <td>47355d644fa375b2</td>\n",
       "    </tr>\n",
       "  </tbody>\n",
       "</table>\n",
       "</div>"
      ],
      "text/plain": [
       "                   id      reference_id\n",
       "110  07595834e2ac11c2  47355d644fa375b2"
      ]
     },
     "execution_count": 7,
     "metadata": {},
     "output_type": "execute_result"
    }
   ],
   "source": [
    "test_pred.sample()"
   ]
  },
  {
   "cell_type": "code",
   "execution_count": 8,
   "metadata": {},
   "outputs": [],
   "source": [
    "test_pred = test_pred.rename (columns= {'reference_id': 'reference_id_pred'})"
   ]
  },
  {
   "cell_type": "code",
   "execution_count": 9,
   "metadata": {},
   "outputs": [
    {
     "data": {
      "text/plain": [
       "(200, 2)"
      ]
     },
     "execution_count": 9,
     "metadata": {},
     "output_type": "execute_result"
    }
   ],
   "source": [
    "test_pred.shape"
   ]
  },
  {
   "cell_type": "code",
   "execution_count": 10,
   "metadata": {},
   "outputs": [
    {
     "data": {
      "text/plain": [
       "74d0d86e83e8cfbd    4\n",
       "8f9c8fcf9cb2862c    3\n",
       "05cb692a7fd6c0e6    3\n",
       "6ba3b74a1ca138cf    2\n",
       "6b423ba12a723c38    2\n",
       "                   ..\n",
       "a51a43ae8ef6ec5d    1\n",
       "46889124439ddfa4    1\n",
       "d307989eecbe7f7b    1\n",
       "1a3d1cb265de4c4e    1\n",
       "c14d00955ff5ffd7    1\n",
       "Name: reference_id_pred, Length: 167, dtype: int64"
      ]
     },
     "execution_count": 10,
     "metadata": {},
     "output_type": "execute_result"
    }
   ],
   "source": [
    "test_pred['reference_id_pred'].value_counts()"
   ]
  },
  {
   "cell_type": "code",
   "execution_count": 11,
   "metadata": {},
   "outputs": [],
   "source": [
    "test_2 = df[:200]"
   ]
  },
  {
   "cell_type": "code",
   "execution_count": 12,
   "metadata": {},
   "outputs": [],
   "source": [
    "test_2.loc[(test_2['is_reference'] == True),'reference_id'] = test_2['product_id']"
   ]
  },
  {
   "cell_type": "code",
   "execution_count": 13,
   "metadata": {},
   "outputs": [
    {
     "data": {
      "text/html": [
       "<div>\n",
       "<style scoped>\n",
       "    .dataframe tbody tr th:only-of-type {\n",
       "        vertical-align: middle;\n",
       "    }\n",
       "\n",
       "    .dataframe tbody tr th {\n",
       "        vertical-align: top;\n",
       "    }\n",
       "\n",
       "    .dataframe thead th {\n",
       "        text-align: right;\n",
       "    }\n",
       "</style>\n",
       "<table border=\"1\" class=\"dataframe\">\n",
       "  <thead>\n",
       "    <tr style=\"text-align: right;\">\n",
       "      <th></th>\n",
       "      <th>product_id</th>\n",
       "      <th>name</th>\n",
       "      <th>props</th>\n",
       "      <th>is_reference</th>\n",
       "      <th>reference_id</th>\n",
       "    </tr>\n",
       "  </thead>\n",
       "  <tbody>\n",
       "    <tr>\n",
       "      <th>0</th>\n",
       "      <td>0007302f2fe1d54d</td>\n",
       "      <td>Классическая сплит-система ROYAL CLIMA PANDORA...</td>\n",
       "      <td>[Класс  энергоэффективности\\tA, Мощность  конд...</td>\n",
       "      <td>False</td>\n",
       "      <td>f497219eb0077f84</td>\n",
       "    </tr>\n",
       "    <tr>\n",
       "      <th>1</th>\n",
       "      <td>000740b6c1cc763e</td>\n",
       "      <td>Смартфон Xiaomi Redmi Note 10S NFC 6/128 ГБ RU...</td>\n",
       "      <td>[Экран\\t6.43\" (2400x1080) AMOLED 60 Гц, 4 каме...</td>\n",
       "      <td>True</td>\n",
       "      <td>000740b6c1cc763e</td>\n",
       "    </tr>\n",
       "    <tr>\n",
       "      <th>2</th>\n",
       "      <td>0039af5efceac4ab</td>\n",
       "      <td>Холодильник Бирюса 118</td>\n",
       "      <td>[Мощность  замораживания  4 кг/сутки]</td>\n",
       "      <td>False</td>\n",
       "      <td>28085e941cde1639</td>\n",
       "    </tr>\n",
       "    <tr>\n",
       "      <th>3</th>\n",
       "      <td>004f2158acb8165c</td>\n",
       "      <td>ASUS TUF-GTX1660S-O6G-GAMING Видеокарта</td>\n",
       "      <td>[Объем  видеопамяти\\t6144 МБ, Частота  памяти\\...</td>\n",
       "      <td>False</td>\n",
       "      <td>9afe55bb4bf1e8a8</td>\n",
       "    </tr>\n",
       "    <tr>\n",
       "      <th>4</th>\n",
       "      <td>005cddb29e1677ec</td>\n",
       "      <td>Кофемашина Saeco Lirika One Touch Cappuccino, ...</td>\n",
       "      <td>[Приготовление  капучино\\tавтоматическое, Мате...</td>\n",
       "      <td>False</td>\n",
       "      <td>1f21918ceb5d345c</td>\n",
       "    </tr>\n",
       "    <tr>\n",
       "      <th>...</th>\n",
       "      <td>...</td>\n",
       "      <td>...</td>\n",
       "      <td>...</td>\n",
       "      <td>...</td>\n",
       "      <td>...</td>\n",
       "    </tr>\n",
       "    <tr>\n",
       "      <th>195</th>\n",
       "      <td>0ecb1b5c4f68b5b4</td>\n",
       "      <td>Робот-пылесосы Xiaomi Mi Roborock S5 Max Black...</td>\n",
       "      <td>[Управление со смартфона\\tда, Объем контейнера...</td>\n",
       "      <td>False</td>\n",
       "      <td>3edadb7a2d627f65</td>\n",
       "    </tr>\n",
       "    <tr>\n",
       "      <th>196</th>\n",
       "      <td>0ed52a27fbd2d716</td>\n",
       "      <td>Наушники TWS беспроводные Honor Choice Earbuds...</td>\n",
       "      <td>[Количество   микрофонов\\t2]</td>\n",
       "      <td>False</td>\n",
       "      <td>8f9f7a8f4b112f15</td>\n",
       "    </tr>\n",
       "    <tr>\n",
       "      <th>197</th>\n",
       "      <td>0eee48dbce50d9f6</td>\n",
       "      <td>Смарт-часы Xiaomi Mi Watch 2 Lite, син, BHR5440GL</td>\n",
       "      <td>[Емкость   аккумулятора\\t262 мА·ч, Совместимос...</td>\n",
       "      <td>False</td>\n",
       "      <td>d3f1c49998c771f3</td>\n",
       "    </tr>\n",
       "    <tr>\n",
       "      <th>198</th>\n",
       "      <td>0ef571d3ccb42e1a</td>\n",
       "      <td>Посудомоечная машина встраиваемая Candy CDIH 2...</td>\n",
       "      <td>[Таймер  отсрочки запуска\\tесть, Тип\\tузкая, Т...</td>\n",
       "      <td>False</td>\n",
       "      <td>d7d28d1201ba8bde</td>\n",
       "    </tr>\n",
       "    <tr>\n",
       "      <th>199</th>\n",
       "      <td>0ef5e4c8ad4bbff6</td>\n",
       "      <td>AMD FX-4300, OEM</td>\n",
       "      <td>[Количество  потоков\\t4, Объем кэша L2/L3\\t4 М...</td>\n",
       "      <td>False</td>\n",
       "      <td>c14d00955ff5ffd7</td>\n",
       "    </tr>\n",
       "  </tbody>\n",
       "</table>\n",
       "<p>200 rows × 5 columns</p>\n",
       "</div>"
      ],
      "text/plain": [
       "           product_id                                               name  \\\n",
       "0    0007302f2fe1d54d  Классическая сплит-система ROYAL CLIMA PANDORA...   \n",
       "1    000740b6c1cc763e  Смартфон Xiaomi Redmi Note 10S NFC 6/128 ГБ RU...   \n",
       "2    0039af5efceac4ab                             Холодильник Бирюса 118   \n",
       "3    004f2158acb8165c            ASUS TUF-GTX1660S-O6G-GAMING Видеокарта   \n",
       "4    005cddb29e1677ec  Кофемашина Saeco Lirika One Touch Cappuccino, ...   \n",
       "..                ...                                                ...   \n",
       "195  0ecb1b5c4f68b5b4  Робот-пылесосы Xiaomi Mi Roborock S5 Max Black...   \n",
       "196  0ed52a27fbd2d716  Наушники TWS беспроводные Honor Choice Earbuds...   \n",
       "197  0eee48dbce50d9f6  Смарт-часы Xiaomi Mi Watch 2 Lite, син, BHR5440GL   \n",
       "198  0ef571d3ccb42e1a  Посудомоечная машина встраиваемая Candy CDIH 2...   \n",
       "199  0ef5e4c8ad4bbff6                                   AMD FX-4300, OEM   \n",
       "\n",
       "                                                 props  is_reference  \\\n",
       "0    [Класс  энергоэффективности\\tA, Мощность  конд...         False   \n",
       "1    [Экран\\t6.43\" (2400x1080) AMOLED 60 Гц, 4 каме...          True   \n",
       "2                [Мощность  замораживания  4 кг/сутки]         False   \n",
       "3    [Объем  видеопамяти\\t6144 МБ, Частота  памяти\\...         False   \n",
       "4    [Приготовление  капучино\\tавтоматическое, Мате...         False   \n",
       "..                                                 ...           ...   \n",
       "195  [Управление со смартфона\\tда, Объем контейнера...         False   \n",
       "196                       [Количество   микрофонов\\t2]         False   \n",
       "197  [Емкость   аккумулятора\\t262 мА·ч, Совместимос...         False   \n",
       "198  [Таймер  отсрочки запуска\\tесть, Тип\\tузкая, Т...         False   \n",
       "199  [Количество  потоков\\t4, Объем кэша L2/L3\\t4 М...         False   \n",
       "\n",
       "         reference_id  \n",
       "0    f497219eb0077f84  \n",
       "1    000740b6c1cc763e  \n",
       "2    28085e941cde1639  \n",
       "3    9afe55bb4bf1e8a8  \n",
       "4    1f21918ceb5d345c  \n",
       "..                ...  \n",
       "195  3edadb7a2d627f65  \n",
       "196  8f9f7a8f4b112f15  \n",
       "197  d3f1c49998c771f3  \n",
       "198  d7d28d1201ba8bde  \n",
       "199  c14d00955ff5ffd7  \n",
       "\n",
       "[200 rows x 5 columns]"
      ]
     },
     "execution_count": 13,
     "metadata": {},
     "output_type": "execute_result"
    }
   ],
   "source": [
    "test_2"
   ]
  },
  {
   "cell_type": "code",
   "execution_count": 14,
   "metadata": {},
   "outputs": [],
   "source": [
    "test_all = pd.merge(test_2, test_pred, how = 'left', left_on='product_id', right_on='id')"
   ]
  },
  {
   "cell_type": "code",
   "execution_count": 15,
   "metadata": {},
   "outputs": [
    {
     "data": {
      "text/html": [
       "<div>\n",
       "<style scoped>\n",
       "    .dataframe tbody tr th:only-of-type {\n",
       "        vertical-align: middle;\n",
       "    }\n",
       "\n",
       "    .dataframe tbody tr th {\n",
       "        vertical-align: top;\n",
       "    }\n",
       "\n",
       "    .dataframe thead th {\n",
       "        text-align: right;\n",
       "    }\n",
       "</style>\n",
       "<table border=\"1\" class=\"dataframe\">\n",
       "  <thead>\n",
       "    <tr style=\"text-align: right;\">\n",
       "      <th></th>\n",
       "      <th>product_id</th>\n",
       "      <th>name</th>\n",
       "      <th>props</th>\n",
       "      <th>is_reference</th>\n",
       "      <th>reference_id</th>\n",
       "      <th>id</th>\n",
       "      <th>reference_id_pred</th>\n",
       "    </tr>\n",
       "  </thead>\n",
       "  <tbody>\n",
       "    <tr>\n",
       "      <th>101</th>\n",
       "      <td>06db57f6264dd195</td>\n",
       "      <td>Смартфон Xiaomi Redmi Note 11 Pro 128Gb 8Gb го...</td>\n",
       "      <td>[Оперативная память\\t8 ГБ, Аккумулятор\\t5000 м...</td>\n",
       "      <td>False</td>\n",
       "      <td>abe138723279f9af</td>\n",
       "      <td>06db57f6264dd195</td>\n",
       "      <td>abe138723279f9af</td>\n",
       "    </tr>\n",
       "    <tr>\n",
       "      <th>80</th>\n",
       "      <td>0568dfb9f958d011</td>\n",
       "      <td>Ноутбук Lenovo IdeaPad 3-15 / Ryzen 5 4500U / ...</td>\n",
       "      <td>[Видеокарта  встроенная, AMD Radeon Graphics]</td>\n",
       "      <td>False</td>\n",
       "      <td>01378fa92f901df5</td>\n",
       "      <td>0568dfb9f958d011</td>\n",
       "      <td>01378fa92f901df5</td>\n",
       "    </tr>\n",
       "    <tr>\n",
       "      <th>189</th>\n",
       "      <td>0e55ae06be9f08c3</td>\n",
       "      <td>Процессор Intel Core i5-12400 CM8071504555317 ...</td>\n",
       "      <td>[Интегрированная   графика\\tUHD Graphics 730 1...</td>\n",
       "      <td>False</td>\n",
       "      <td>f3218fffa4c09614</td>\n",
       "      <td>0e55ae06be9f08c3</td>\n",
       "      <td>f3218fffa4c09614</td>\n",
       "    </tr>\n",
       "  </tbody>\n",
       "</table>\n",
       "</div>"
      ],
      "text/plain": [
       "           product_id                                               name  \\\n",
       "101  06db57f6264dd195  Смартфон Xiaomi Redmi Note 11 Pro 128Gb 8Gb го...   \n",
       "80   0568dfb9f958d011  Ноутбук Lenovo IdeaPad 3-15 / Ryzen 5 4500U / ...   \n",
       "189  0e55ae06be9f08c3  Процессор Intel Core i5-12400 CM8071504555317 ...   \n",
       "\n",
       "                                                 props  is_reference  \\\n",
       "101  [Оперативная память\\t8 ГБ, Аккумулятор\\t5000 м...         False   \n",
       "80       [Видеокарта  встроенная, AMD Radeon Graphics]         False   \n",
       "189  [Интегрированная   графика\\tUHD Graphics 730 1...         False   \n",
       "\n",
       "         reference_id                id reference_id_pred  \n",
       "101  abe138723279f9af  06db57f6264dd195  abe138723279f9af  \n",
       "80   01378fa92f901df5  0568dfb9f958d011  01378fa92f901df5  \n",
       "189  f3218fffa4c09614  0e55ae06be9f08c3  f3218fffa4c09614  "
      ]
     },
     "execution_count": 15,
     "metadata": {},
     "output_type": "execute_result"
    }
   ],
   "source": [
    "test_all.sample(3)"
   ]
  },
  {
   "cell_type": "code",
   "execution_count": 16,
   "metadata": {},
   "outputs": [],
   "source": [
    "test_all['pred'] = 0"
   ]
  },
  {
   "cell_type": "code",
   "execution_count": 17,
   "metadata": {},
   "outputs": [],
   "source": [
    "td = []\n",
    "\n",
    "for i in test_all.index:\n",
    "    test_all.loc[(test_all.index == i),['pred']] = (test_all.loc[(test_all.index == i),\n",
    "    'reference_id'] == test_all.loc[(test_all.index == i),'reference_id_pred'])\n",
    "\n",
    "#test_all['pred'] = [test_all['reference_id'] == test_all['reference_id_pred']]"
   ]
  },
  {
   "cell_type": "code",
   "execution_count": 18,
   "metadata": {},
   "outputs": [
    {
     "data": {
      "text/plain": [
       "True     194\n",
       "False      6\n",
       "Name: pred, dtype: int64"
      ]
     },
     "execution_count": 18,
     "metadata": {},
     "output_type": "execute_result"
    }
   ],
   "source": [
    "test_all['pred'].value_counts()"
   ]
  },
  {
   "cell_type": "code",
   "execution_count": null,
   "metadata": {},
   "outputs": [],
   "source": []
  }
 ],
 "metadata": {
  "kernelspec": {
   "display_name": "Python 3.9.12 ('base')",
   "language": "python",
   "name": "python3"
  },
  "language_info": {
   "codemirror_mode": {
    "name": "ipython",
    "version": 3
   },
   "file_extension": ".py",
   "mimetype": "text/x-python",
   "name": "python",
   "nbconvert_exporter": "python",
   "pygments_lexer": "ipython3",
   "version": "3.9.12"
  },
  "orig_nbformat": 4,
  "vscode": {
   "interpreter": {
    "hash": "11fd67006ca27d8c3de757c93fc3ec30e6504c490ec43f275b6f9d00aa4c6782"
   }
  }
 },
 "nbformat": 4,
 "nbformat_minor": 2
}
