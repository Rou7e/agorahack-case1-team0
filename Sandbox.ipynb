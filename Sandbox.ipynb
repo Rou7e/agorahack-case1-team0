{
 "cells": [
  {
   "cell_type": "code",
   "execution_count": 10,
   "metadata": {},
   "outputs": [],
   "source": [
    "import pandas as pd\n",
    "import numpy as np\n",
    "import json"
   ]
  },
  {
   "cell_type": "code",
   "execution_count": 11,
   "metadata": {},
   "outputs": [],
   "source": [
    "with open('D:/AgoraHack/agora_hack_products/agora_hack_products.json', encoding='utf-8') as f:\n",
    "   prdct = json.load(f)"
   ]
  },
  {
   "cell_type": "code",
   "execution_count": 13,
   "metadata": {},
   "outputs": [
    {
     "data": {
      "text/plain": [
       "{'product_id': '0007302f2fe1d54d',\n",
       " 'name': 'Классическая сплит-система ROYAL CLIMA PANDORA RC-PD28HN, для комнат до 28 кв.метра, настенный кондиционер для дома/офиса, комплект',\n",
       " 'props': ['Класс  энергоэффективности\\tA',\n",
       "  'Мощность  кондиционера\\t9 BTU',\n",
       "  'Уровень  шума внутреннего блока\\t21.5 дБ - 38 дБ',\n",
       "  'Режим   работы\\tохлаждение / обогрев',\n",
       "  'Фильтр тонкой очистки\\tесть',\n",
       "  'Доп.   режимы турбо, экорежим, осушение, ночной, вентиляция'],\n",
       " 'is_reference': False,\n",
       " 'reference_id': 'f497219eb0077f84'}"
      ]
     },
     "execution_count": 13,
     "metadata": {},
     "output_type": "execute_result"
    }
   ],
   "source": [
    "prdct[0]"
   ]
  },
  {
   "cell_type": "code",
   "execution_count": 14,
   "metadata": {},
   "outputs": [],
   "source": [
    "df = pd.DataFrame.from_dict(prdct, orient='columns')"
   ]
  },
  {
   "cell_type": "code",
   "execution_count": 15,
   "metadata": {},
   "outputs": [
    {
     "name": "stdout",
     "output_type": "stream",
     "text": [
      "<class 'pandas.core.frame.DataFrame'>\n",
      "RangeIndex: 3251 entries, 0 to 3250\n",
      "Data columns (total 5 columns):\n",
      " #   Column        Non-Null Count  Dtype \n",
      "---  ------        --------------  ----- \n",
      " 0   product_id    3251 non-null   object\n",
      " 1   name          3251 non-null   object\n",
      " 2   props         3251 non-null   object\n",
      " 3   is_reference  3251 non-null   bool  \n",
      " 4   reference_id  2780 non-null   object\n",
      "dtypes: bool(1), object(4)\n",
      "memory usage: 104.9+ KB\n"
     ]
    }
   ],
   "source": [
    "df.info()"
   ]
  },
  {
   "cell_type": "code",
   "execution_count": 30,
   "metadata": {},
   "outputs": [
    {
     "data": {
      "text/html": [
       "<div>\n",
       "<style scoped>\n",
       "    .dataframe tbody tr th:only-of-type {\n",
       "        vertical-align: middle;\n",
       "    }\n",
       "\n",
       "    .dataframe tbody tr th {\n",
       "        vertical-align: top;\n",
       "    }\n",
       "\n",
       "    .dataframe thead th {\n",
       "        text-align: right;\n",
       "    }\n",
       "</style>\n",
       "<table border=\"1\" class=\"dataframe\">\n",
       "  <thead>\n",
       "    <tr style=\"text-align: right;\">\n",
       "      <th></th>\n",
       "      <th>product_id</th>\n",
       "      <th>name</th>\n",
       "      <th>props</th>\n",
       "      <th>is_reference</th>\n",
       "      <th>reference_id</th>\n",
       "    </tr>\n",
       "  </thead>\n",
       "  <tbody>\n",
       "    <tr>\n",
       "      <th>1759</th>\n",
       "      <td>8831664529634532</td>\n",
       "      <td>Телевизор Samsung QE43Q60ABU</td>\n",
       "      <td>[Платформа Smart TV\\tTizen, Диагональ\\t43\", Фо...</td>\n",
       "      <td>False</td>\n",
       "      <td>b33b2e069b9d7cf9</td>\n",
       "    </tr>\n",
       "    <tr>\n",
       "      <th>1320</th>\n",
       "      <td>676b98337ad68f78</td>\n",
       "      <td>Встраиваемая посудомоечная машина Kuppersberg ...</td>\n",
       "      <td>[Ширина\\t60 см, Тип   сушки класс A, конденсац...</td>\n",
       "      <td>False</td>\n",
       "      <td>0c5ac0f8d296c43a</td>\n",
       "    </tr>\n",
       "    <tr>\n",
       "      <th>2433</th>\n",
       "      <td>c0f59c5446f47e06</td>\n",
       "      <td>Встраиваемая посудомоечная машина Weissgauff B...</td>\n",
       "      <td>[Ширина\\t55 см, Вместимость\\t6 комплектов, Защ...</td>\n",
       "      <td>False</td>\n",
       "      <td>909e4bc94eef35b2</td>\n",
       "    </tr>\n",
       "  </tbody>\n",
       "</table>\n",
       "</div>"
      ],
      "text/plain": [
       "            product_id                                               name  \\\n",
       "1759  8831664529634532                       Телевизор Samsung QE43Q60ABU   \n",
       "1320  676b98337ad68f78  Встраиваемая посудомоечная машина Kuppersberg ...   \n",
       "2433  c0f59c5446f47e06  Встраиваемая посудомоечная машина Weissgauff B...   \n",
       "\n",
       "                                                  props  is_reference  \\\n",
       "1759  [Платформа Smart TV\\tTizen, Диагональ\\t43\", Фо...         False   \n",
       "1320  [Ширина\\t60 см, Тип   сушки класс A, конденсац...         False   \n",
       "2433  [Ширина\\t55 см, Вместимость\\t6 комплектов, Защ...         False   \n",
       "\n",
       "          reference_id  \n",
       "1759  b33b2e069b9d7cf9  \n",
       "1320  0c5ac0f8d296c43a  \n",
       "2433  909e4bc94eef35b2  "
      ]
     },
     "execution_count": 30,
     "metadata": {},
     "output_type": "execute_result"
    }
   ],
   "source": [
    "df.sample(3)"
   ]
  },
  {
   "cell_type": "code",
   "execution_count": 33,
   "metadata": {},
   "outputs": [
    {
     "data": {
      "text/plain": [
       "product_id      471\n",
       "name            471\n",
       "props           471\n",
       "is_reference    471\n",
       "reference_id      0\n",
       "dtype: int64"
      ]
     },
     "execution_count": 33,
     "metadata": {},
     "output_type": "execute_result"
    }
   ],
   "source": [
    "df[df['is_reference'] == True].count()"
   ]
  },
  {
   "cell_type": "code",
   "execution_count": 35,
   "metadata": {},
   "outputs": [],
   "source": [
    "etalons = df[df['is_reference'] == True]"
   ]
  },
  {
   "cell_type": "code",
   "execution_count": 36,
   "metadata": {},
   "outputs": [],
   "source": [
    "prdct_2 = df[df['is_reference'] == False]"
   ]
  },
  {
   "cell_type": "code",
   "execution_count": null,
   "metadata": {},
   "outputs": [],
   "source": []
  }
 ],
 "metadata": {
  "kernelspec": {
   "display_name": "Python 3.9.12 ('base')",
   "language": "python",
   "name": "python3"
  },
  "language_info": {
   "codemirror_mode": {
    "name": "ipython",
    "version": 3
   },
   "file_extension": ".py",
   "mimetype": "text/x-python",
   "name": "python",
   "nbconvert_exporter": "python",
   "pygments_lexer": "ipython3",
   "version": "3.9.12"
  },
  "orig_nbformat": 4,
  "vscode": {
   "interpreter": {
    "hash": "11fd67006ca27d8c3de757c93fc3ec30e6504c490ec43f275b6f9d00aa4c6782"
   }
  }
 },
 "nbformat": 4,
 "nbformat_minor": 2
}
